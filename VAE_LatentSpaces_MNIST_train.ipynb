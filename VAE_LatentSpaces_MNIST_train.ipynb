{
  "nbformat": 4,
  "nbformat_minor": 0,
  "metadata": {
    "colab": {
      "provenance": [],
      "collapsed_sections": [
        "xSTG0-Uck0CZ"
      ]
    },
    "kernelspec": {
      "name": "python3",
      "display_name": "Python 3"
    },
    "language_info": {
      "name": "python"
    },
    "widgets": {
      "application/vnd.jupyter.widget-state+json": {
        "e4397da228ed4644bd133c1468b3306f": {
          "model_module": "@jupyter-widgets/controls",
          "model_name": "HBoxModel",
          "model_module_version": "1.5.0",
          "state": {
            "_dom_classes": [],
            "_model_module": "@jupyter-widgets/controls",
            "_model_module_version": "1.5.0",
            "_model_name": "HBoxModel",
            "_view_count": null,
            "_view_module": "@jupyter-widgets/controls",
            "_view_module_version": "1.5.0",
            "_view_name": "HBoxView",
            "box_style": "",
            "children": [
              "IPY_MODEL_f6579783e43f45e9841a5ec970067557",
              "IPY_MODEL_626d1a2a449240a8b5adc12dc698744a",
              "IPY_MODEL_cdb1eda4580947988875b6ef212cb751"
            ],
            "layout": "IPY_MODEL_f8ad4accacc8456ba590ec7950f2e062"
          }
        },
        "f6579783e43f45e9841a5ec970067557": {
          "model_module": "@jupyter-widgets/controls",
          "model_name": "HTMLModel",
          "model_module_version": "1.5.0",
          "state": {
            "_dom_classes": [],
            "_model_module": "@jupyter-widgets/controls",
            "_model_module_version": "1.5.0",
            "_model_name": "HTMLModel",
            "_view_count": null,
            "_view_module": "@jupyter-widgets/controls",
            "_view_module_version": "1.5.0",
            "_view_name": "HTMLView",
            "description": "",
            "description_tooltip": null,
            "layout": "IPY_MODEL_5e1081d7b74747a9ae9b4e68c6fef06e",
            "placeholder": "​",
            "style": "IPY_MODEL_d391990c1b424415a03174f9b190cf94",
            "value": "100%"
          }
        },
        "626d1a2a449240a8b5adc12dc698744a": {
          "model_module": "@jupyter-widgets/controls",
          "model_name": "FloatProgressModel",
          "model_module_version": "1.5.0",
          "state": {
            "_dom_classes": [],
            "_model_module": "@jupyter-widgets/controls",
            "_model_module_version": "1.5.0",
            "_model_name": "FloatProgressModel",
            "_view_count": null,
            "_view_module": "@jupyter-widgets/controls",
            "_view_module_version": "1.5.0",
            "_view_name": "ProgressView",
            "bar_style": "success",
            "description": "",
            "description_tooltip": null,
            "layout": "IPY_MODEL_fc9a355ef2a645a8899deef3009dbfc2",
            "max": 9912422,
            "min": 0,
            "orientation": "horizontal",
            "style": "IPY_MODEL_cca19da310e5431fa18f38b759b3fd33",
            "value": 9912422
          }
        },
        "cdb1eda4580947988875b6ef212cb751": {
          "model_module": "@jupyter-widgets/controls",
          "model_name": "HTMLModel",
          "model_module_version": "1.5.0",
          "state": {
            "_dom_classes": [],
            "_model_module": "@jupyter-widgets/controls",
            "_model_module_version": "1.5.0",
            "_model_name": "HTMLModel",
            "_view_count": null,
            "_view_module": "@jupyter-widgets/controls",
            "_view_module_version": "1.5.0",
            "_view_name": "HTMLView",
            "description": "",
            "description_tooltip": null,
            "layout": "IPY_MODEL_bd18b86990d443c58846bd38d9d14d92",
            "placeholder": "​",
            "style": "IPY_MODEL_46c5281e6e3d4841ab67ecbf8add12ad",
            "value": " 9912422/9912422 [00:00&lt;00:00, 13030538.52it/s]"
          }
        },
        "f8ad4accacc8456ba590ec7950f2e062": {
          "model_module": "@jupyter-widgets/base",
          "model_name": "LayoutModel",
          "model_module_version": "1.2.0",
          "state": {
            "_model_module": "@jupyter-widgets/base",
            "_model_module_version": "1.2.0",
            "_model_name": "LayoutModel",
            "_view_count": null,
            "_view_module": "@jupyter-widgets/base",
            "_view_module_version": "1.2.0",
            "_view_name": "LayoutView",
            "align_content": null,
            "align_items": null,
            "align_self": null,
            "border": null,
            "bottom": null,
            "display": null,
            "flex": null,
            "flex_flow": null,
            "grid_area": null,
            "grid_auto_columns": null,
            "grid_auto_flow": null,
            "grid_auto_rows": null,
            "grid_column": null,
            "grid_gap": null,
            "grid_row": null,
            "grid_template_areas": null,
            "grid_template_columns": null,
            "grid_template_rows": null,
            "height": null,
            "justify_content": null,
            "justify_items": null,
            "left": null,
            "margin": null,
            "max_height": null,
            "max_width": null,
            "min_height": null,
            "min_width": null,
            "object_fit": null,
            "object_position": null,
            "order": null,
            "overflow": null,
            "overflow_x": null,
            "overflow_y": null,
            "padding": null,
            "right": null,
            "top": null,
            "visibility": null,
            "width": null
          }
        },
        "5e1081d7b74747a9ae9b4e68c6fef06e": {
          "model_module": "@jupyter-widgets/base",
          "model_name": "LayoutModel",
          "model_module_version": "1.2.0",
          "state": {
            "_model_module": "@jupyter-widgets/base",
            "_model_module_version": "1.2.0",
            "_model_name": "LayoutModel",
            "_view_count": null,
            "_view_module": "@jupyter-widgets/base",
            "_view_module_version": "1.2.0",
            "_view_name": "LayoutView",
            "align_content": null,
            "align_items": null,
            "align_self": null,
            "border": null,
            "bottom": null,
            "display": null,
            "flex": null,
            "flex_flow": null,
            "grid_area": null,
            "grid_auto_columns": null,
            "grid_auto_flow": null,
            "grid_auto_rows": null,
            "grid_column": null,
            "grid_gap": null,
            "grid_row": null,
            "grid_template_areas": null,
            "grid_template_columns": null,
            "grid_template_rows": null,
            "height": null,
            "justify_content": null,
            "justify_items": null,
            "left": null,
            "margin": null,
            "max_height": null,
            "max_width": null,
            "min_height": null,
            "min_width": null,
            "object_fit": null,
            "object_position": null,
            "order": null,
            "overflow": null,
            "overflow_x": null,
            "overflow_y": null,
            "padding": null,
            "right": null,
            "top": null,
            "visibility": null,
            "width": null
          }
        },
        "d391990c1b424415a03174f9b190cf94": {
          "model_module": "@jupyter-widgets/controls",
          "model_name": "DescriptionStyleModel",
          "model_module_version": "1.5.0",
          "state": {
            "_model_module": "@jupyter-widgets/controls",
            "_model_module_version": "1.5.0",
            "_model_name": "DescriptionStyleModel",
            "_view_count": null,
            "_view_module": "@jupyter-widgets/base",
            "_view_module_version": "1.2.0",
            "_view_name": "StyleView",
            "description_width": ""
          }
        },
        "fc9a355ef2a645a8899deef3009dbfc2": {
          "model_module": "@jupyter-widgets/base",
          "model_name": "LayoutModel",
          "model_module_version": "1.2.0",
          "state": {
            "_model_module": "@jupyter-widgets/base",
            "_model_module_version": "1.2.0",
            "_model_name": "LayoutModel",
            "_view_count": null,
            "_view_module": "@jupyter-widgets/base",
            "_view_module_version": "1.2.0",
            "_view_name": "LayoutView",
            "align_content": null,
            "align_items": null,
            "align_self": null,
            "border": null,
            "bottom": null,
            "display": null,
            "flex": null,
            "flex_flow": null,
            "grid_area": null,
            "grid_auto_columns": null,
            "grid_auto_flow": null,
            "grid_auto_rows": null,
            "grid_column": null,
            "grid_gap": null,
            "grid_row": null,
            "grid_template_areas": null,
            "grid_template_columns": null,
            "grid_template_rows": null,
            "height": null,
            "justify_content": null,
            "justify_items": null,
            "left": null,
            "margin": null,
            "max_height": null,
            "max_width": null,
            "min_height": null,
            "min_width": null,
            "object_fit": null,
            "object_position": null,
            "order": null,
            "overflow": null,
            "overflow_x": null,
            "overflow_y": null,
            "padding": null,
            "right": null,
            "top": null,
            "visibility": null,
            "width": null
          }
        },
        "cca19da310e5431fa18f38b759b3fd33": {
          "model_module": "@jupyter-widgets/controls",
          "model_name": "ProgressStyleModel",
          "model_module_version": "1.5.0",
          "state": {
            "_model_module": "@jupyter-widgets/controls",
            "_model_module_version": "1.5.0",
            "_model_name": "ProgressStyleModel",
            "_view_count": null,
            "_view_module": "@jupyter-widgets/base",
            "_view_module_version": "1.2.0",
            "_view_name": "StyleView",
            "bar_color": null,
            "description_width": ""
          }
        },
        "bd18b86990d443c58846bd38d9d14d92": {
          "model_module": "@jupyter-widgets/base",
          "model_name": "LayoutModel",
          "model_module_version": "1.2.0",
          "state": {
            "_model_module": "@jupyter-widgets/base",
            "_model_module_version": "1.2.0",
            "_model_name": "LayoutModel",
            "_view_count": null,
            "_view_module": "@jupyter-widgets/base",
            "_view_module_version": "1.2.0",
            "_view_name": "LayoutView",
            "align_content": null,
            "align_items": null,
            "align_self": null,
            "border": null,
            "bottom": null,
            "display": null,
            "flex": null,
            "flex_flow": null,
            "grid_area": null,
            "grid_auto_columns": null,
            "grid_auto_flow": null,
            "grid_auto_rows": null,
            "grid_column": null,
            "grid_gap": null,
            "grid_row": null,
            "grid_template_areas": null,
            "grid_template_columns": null,
            "grid_template_rows": null,
            "height": null,
            "justify_content": null,
            "justify_items": null,
            "left": null,
            "margin": null,
            "max_height": null,
            "max_width": null,
            "min_height": null,
            "min_width": null,
            "object_fit": null,
            "object_position": null,
            "order": null,
            "overflow": null,
            "overflow_x": null,
            "overflow_y": null,
            "padding": null,
            "right": null,
            "top": null,
            "visibility": null,
            "width": null
          }
        },
        "46c5281e6e3d4841ab67ecbf8add12ad": {
          "model_module": "@jupyter-widgets/controls",
          "model_name": "DescriptionStyleModel",
          "model_module_version": "1.5.0",
          "state": {
            "_model_module": "@jupyter-widgets/controls",
            "_model_module_version": "1.5.0",
            "_model_name": "DescriptionStyleModel",
            "_view_count": null,
            "_view_module": "@jupyter-widgets/base",
            "_view_module_version": "1.2.0",
            "_view_name": "StyleView",
            "description_width": ""
          }
        },
        "743c109a23db422ab7ad3068a581245d": {
          "model_module": "@jupyter-widgets/controls",
          "model_name": "HBoxModel",
          "model_module_version": "1.5.0",
          "state": {
            "_dom_classes": [],
            "_model_module": "@jupyter-widgets/controls",
            "_model_module_version": "1.5.0",
            "_model_name": "HBoxModel",
            "_view_count": null,
            "_view_module": "@jupyter-widgets/controls",
            "_view_module_version": "1.5.0",
            "_view_name": "HBoxView",
            "box_style": "",
            "children": [
              "IPY_MODEL_d9631cb1b69642a7945237272612c236",
              "IPY_MODEL_6f8603fd1b974fe09981c4d231d9ce99",
              "IPY_MODEL_d22f216672054755917a01da4bf852a3"
            ],
            "layout": "IPY_MODEL_b394c9b4ce1144c0831c2f9488e6a984"
          }
        },
        "d9631cb1b69642a7945237272612c236": {
          "model_module": "@jupyter-widgets/controls",
          "model_name": "HTMLModel",
          "model_module_version": "1.5.0",
          "state": {
            "_dom_classes": [],
            "_model_module": "@jupyter-widgets/controls",
            "_model_module_version": "1.5.0",
            "_model_name": "HTMLModel",
            "_view_count": null,
            "_view_module": "@jupyter-widgets/controls",
            "_view_module_version": "1.5.0",
            "_view_name": "HTMLView",
            "description": "",
            "description_tooltip": null,
            "layout": "IPY_MODEL_bb05ec622f5549798276c720455dd1a0",
            "placeholder": "​",
            "style": "IPY_MODEL_0a4fe1c43c2a49418273c4ee19642cc4",
            "value": "100%"
          }
        },
        "6f8603fd1b974fe09981c4d231d9ce99": {
          "model_module": "@jupyter-widgets/controls",
          "model_name": "FloatProgressModel",
          "model_module_version": "1.5.0",
          "state": {
            "_dom_classes": [],
            "_model_module": "@jupyter-widgets/controls",
            "_model_module_version": "1.5.0",
            "_model_name": "FloatProgressModel",
            "_view_count": null,
            "_view_module": "@jupyter-widgets/controls",
            "_view_module_version": "1.5.0",
            "_view_name": "ProgressView",
            "bar_style": "success",
            "description": "",
            "description_tooltip": null,
            "layout": "IPY_MODEL_8a38759ec466443fb3088f49755a81a8",
            "max": 28881,
            "min": 0,
            "orientation": "horizontal",
            "style": "IPY_MODEL_6ba55c583303420fa85e727725550366",
            "value": 28881
          }
        },
        "d22f216672054755917a01da4bf852a3": {
          "model_module": "@jupyter-widgets/controls",
          "model_name": "HTMLModel",
          "model_module_version": "1.5.0",
          "state": {
            "_dom_classes": [],
            "_model_module": "@jupyter-widgets/controls",
            "_model_module_version": "1.5.0",
            "_model_name": "HTMLModel",
            "_view_count": null,
            "_view_module": "@jupyter-widgets/controls",
            "_view_module_version": "1.5.0",
            "_view_name": "HTMLView",
            "description": "",
            "description_tooltip": null,
            "layout": "IPY_MODEL_a43adf3346124d28b75f96c563c041fa",
            "placeholder": "​",
            "style": "IPY_MODEL_aa119fc732324ec3aaa14b1bdfa33e5d",
            "value": " 28881/28881 [00:00&lt;00:00, 564379.97it/s]"
          }
        },
        "b394c9b4ce1144c0831c2f9488e6a984": {
          "model_module": "@jupyter-widgets/base",
          "model_name": "LayoutModel",
          "model_module_version": "1.2.0",
          "state": {
            "_model_module": "@jupyter-widgets/base",
            "_model_module_version": "1.2.0",
            "_model_name": "LayoutModel",
            "_view_count": null,
            "_view_module": "@jupyter-widgets/base",
            "_view_module_version": "1.2.0",
            "_view_name": "LayoutView",
            "align_content": null,
            "align_items": null,
            "align_self": null,
            "border": null,
            "bottom": null,
            "display": null,
            "flex": null,
            "flex_flow": null,
            "grid_area": null,
            "grid_auto_columns": null,
            "grid_auto_flow": null,
            "grid_auto_rows": null,
            "grid_column": null,
            "grid_gap": null,
            "grid_row": null,
            "grid_template_areas": null,
            "grid_template_columns": null,
            "grid_template_rows": null,
            "height": null,
            "justify_content": null,
            "justify_items": null,
            "left": null,
            "margin": null,
            "max_height": null,
            "max_width": null,
            "min_height": null,
            "min_width": null,
            "object_fit": null,
            "object_position": null,
            "order": null,
            "overflow": null,
            "overflow_x": null,
            "overflow_y": null,
            "padding": null,
            "right": null,
            "top": null,
            "visibility": null,
            "width": null
          }
        },
        "bb05ec622f5549798276c720455dd1a0": {
          "model_module": "@jupyter-widgets/base",
          "model_name": "LayoutModel",
          "model_module_version": "1.2.0",
          "state": {
            "_model_module": "@jupyter-widgets/base",
            "_model_module_version": "1.2.0",
            "_model_name": "LayoutModel",
            "_view_count": null,
            "_view_module": "@jupyter-widgets/base",
            "_view_module_version": "1.2.0",
            "_view_name": "LayoutView",
            "align_content": null,
            "align_items": null,
            "align_self": null,
            "border": null,
            "bottom": null,
            "display": null,
            "flex": null,
            "flex_flow": null,
            "grid_area": null,
            "grid_auto_columns": null,
            "grid_auto_flow": null,
            "grid_auto_rows": null,
            "grid_column": null,
            "grid_gap": null,
            "grid_row": null,
            "grid_template_areas": null,
            "grid_template_columns": null,
            "grid_template_rows": null,
            "height": null,
            "justify_content": null,
            "justify_items": null,
            "left": null,
            "margin": null,
            "max_height": null,
            "max_width": null,
            "min_height": null,
            "min_width": null,
            "object_fit": null,
            "object_position": null,
            "order": null,
            "overflow": null,
            "overflow_x": null,
            "overflow_y": null,
            "padding": null,
            "right": null,
            "top": null,
            "visibility": null,
            "width": null
          }
        },
        "0a4fe1c43c2a49418273c4ee19642cc4": {
          "model_module": "@jupyter-widgets/controls",
          "model_name": "DescriptionStyleModel",
          "model_module_version": "1.5.0",
          "state": {
            "_model_module": "@jupyter-widgets/controls",
            "_model_module_version": "1.5.0",
            "_model_name": "DescriptionStyleModel",
            "_view_count": null,
            "_view_module": "@jupyter-widgets/base",
            "_view_module_version": "1.2.0",
            "_view_name": "StyleView",
            "description_width": ""
          }
        },
        "8a38759ec466443fb3088f49755a81a8": {
          "model_module": "@jupyter-widgets/base",
          "model_name": "LayoutModel",
          "model_module_version": "1.2.0",
          "state": {
            "_model_module": "@jupyter-widgets/base",
            "_model_module_version": "1.2.0",
            "_model_name": "LayoutModel",
            "_view_count": null,
            "_view_module": "@jupyter-widgets/base",
            "_view_module_version": "1.2.0",
            "_view_name": "LayoutView",
            "align_content": null,
            "align_items": null,
            "align_self": null,
            "border": null,
            "bottom": null,
            "display": null,
            "flex": null,
            "flex_flow": null,
            "grid_area": null,
            "grid_auto_columns": null,
            "grid_auto_flow": null,
            "grid_auto_rows": null,
            "grid_column": null,
            "grid_gap": null,
            "grid_row": null,
            "grid_template_areas": null,
            "grid_template_columns": null,
            "grid_template_rows": null,
            "height": null,
            "justify_content": null,
            "justify_items": null,
            "left": null,
            "margin": null,
            "max_height": null,
            "max_width": null,
            "min_height": null,
            "min_width": null,
            "object_fit": null,
            "object_position": null,
            "order": null,
            "overflow": null,
            "overflow_x": null,
            "overflow_y": null,
            "padding": null,
            "right": null,
            "top": null,
            "visibility": null,
            "width": null
          }
        },
        "6ba55c583303420fa85e727725550366": {
          "model_module": "@jupyter-widgets/controls",
          "model_name": "ProgressStyleModel",
          "model_module_version": "1.5.0",
          "state": {
            "_model_module": "@jupyter-widgets/controls",
            "_model_module_version": "1.5.0",
            "_model_name": "ProgressStyleModel",
            "_view_count": null,
            "_view_module": "@jupyter-widgets/base",
            "_view_module_version": "1.2.0",
            "_view_name": "StyleView",
            "bar_color": null,
            "description_width": ""
          }
        },
        "a43adf3346124d28b75f96c563c041fa": {
          "model_module": "@jupyter-widgets/base",
          "model_name": "LayoutModel",
          "model_module_version": "1.2.0",
          "state": {
            "_model_module": "@jupyter-widgets/base",
            "_model_module_version": "1.2.0",
            "_model_name": "LayoutModel",
            "_view_count": null,
            "_view_module": "@jupyter-widgets/base",
            "_view_module_version": "1.2.0",
            "_view_name": "LayoutView",
            "align_content": null,
            "align_items": null,
            "align_self": null,
            "border": null,
            "bottom": null,
            "display": null,
            "flex": null,
            "flex_flow": null,
            "grid_area": null,
            "grid_auto_columns": null,
            "grid_auto_flow": null,
            "grid_auto_rows": null,
            "grid_column": null,
            "grid_gap": null,
            "grid_row": null,
            "grid_template_areas": null,
            "grid_template_columns": null,
            "grid_template_rows": null,
            "height": null,
            "justify_content": null,
            "justify_items": null,
            "left": null,
            "margin": null,
            "max_height": null,
            "max_width": null,
            "min_height": null,
            "min_width": null,
            "object_fit": null,
            "object_position": null,
            "order": null,
            "overflow": null,
            "overflow_x": null,
            "overflow_y": null,
            "padding": null,
            "right": null,
            "top": null,
            "visibility": null,
            "width": null
          }
        },
        "aa119fc732324ec3aaa14b1bdfa33e5d": {
          "model_module": "@jupyter-widgets/controls",
          "model_name": "DescriptionStyleModel",
          "model_module_version": "1.5.0",
          "state": {
            "_model_module": "@jupyter-widgets/controls",
            "_model_module_version": "1.5.0",
            "_model_name": "DescriptionStyleModel",
            "_view_count": null,
            "_view_module": "@jupyter-widgets/base",
            "_view_module_version": "1.2.0",
            "_view_name": "StyleView",
            "description_width": ""
          }
        },
        "06bf245ab0cb4be5a6f32e7c5dc9e8d1": {
          "model_module": "@jupyter-widgets/controls",
          "model_name": "HBoxModel",
          "model_module_version": "1.5.0",
          "state": {
            "_dom_classes": [],
            "_model_module": "@jupyter-widgets/controls",
            "_model_module_version": "1.5.0",
            "_model_name": "HBoxModel",
            "_view_count": null,
            "_view_module": "@jupyter-widgets/controls",
            "_view_module_version": "1.5.0",
            "_view_name": "HBoxView",
            "box_style": "",
            "children": [
              "IPY_MODEL_682cc515492645f1a8fbea6ee1df7f83",
              "IPY_MODEL_a01f360b8bbf4d98a79a7301a22ec6ae",
              "IPY_MODEL_f12b89311ac04e3e9914f4f6bfaf5d12"
            ],
            "layout": "IPY_MODEL_670e6792a70f4b488274b710eb802816"
          }
        },
        "682cc515492645f1a8fbea6ee1df7f83": {
          "model_module": "@jupyter-widgets/controls",
          "model_name": "HTMLModel",
          "model_module_version": "1.5.0",
          "state": {
            "_dom_classes": [],
            "_model_module": "@jupyter-widgets/controls",
            "_model_module_version": "1.5.0",
            "_model_name": "HTMLModel",
            "_view_count": null,
            "_view_module": "@jupyter-widgets/controls",
            "_view_module_version": "1.5.0",
            "_view_name": "HTMLView",
            "description": "",
            "description_tooltip": null,
            "layout": "IPY_MODEL_31407067355a40b7bd565238fb5ec0f5",
            "placeholder": "​",
            "style": "IPY_MODEL_ef7fb896c69b4c03a059d5b704fd2547",
            "value": "100%"
          }
        },
        "a01f360b8bbf4d98a79a7301a22ec6ae": {
          "model_module": "@jupyter-widgets/controls",
          "model_name": "FloatProgressModel",
          "model_module_version": "1.5.0",
          "state": {
            "_dom_classes": [],
            "_model_module": "@jupyter-widgets/controls",
            "_model_module_version": "1.5.0",
            "_model_name": "FloatProgressModel",
            "_view_count": null,
            "_view_module": "@jupyter-widgets/controls",
            "_view_module_version": "1.5.0",
            "_view_name": "ProgressView",
            "bar_style": "success",
            "description": "",
            "description_tooltip": null,
            "layout": "IPY_MODEL_5a0bf57218754d15a1d27cc8994aa6f6",
            "max": 1648877,
            "min": 0,
            "orientation": "horizontal",
            "style": "IPY_MODEL_dc370e10d428414490a14805aa81b393",
            "value": 1648877
          }
        },
        "f12b89311ac04e3e9914f4f6bfaf5d12": {
          "model_module": "@jupyter-widgets/controls",
          "model_name": "HTMLModel",
          "model_module_version": "1.5.0",
          "state": {
            "_dom_classes": [],
            "_model_module": "@jupyter-widgets/controls",
            "_model_module_version": "1.5.0",
            "_model_name": "HTMLModel",
            "_view_count": null,
            "_view_module": "@jupyter-widgets/controls",
            "_view_module_version": "1.5.0",
            "_view_name": "HTMLView",
            "description": "",
            "description_tooltip": null,
            "layout": "IPY_MODEL_664baf26e45a453993c7efc44f2f69c1",
            "placeholder": "​",
            "style": "IPY_MODEL_69f2c084e535493eb11b5f47b0eccb2e",
            "value": " 1648877/1648877 [00:00&lt;00:00, 17819823.70it/s]"
          }
        },
        "670e6792a70f4b488274b710eb802816": {
          "model_module": "@jupyter-widgets/base",
          "model_name": "LayoutModel",
          "model_module_version": "1.2.0",
          "state": {
            "_model_module": "@jupyter-widgets/base",
            "_model_module_version": "1.2.0",
            "_model_name": "LayoutModel",
            "_view_count": null,
            "_view_module": "@jupyter-widgets/base",
            "_view_module_version": "1.2.0",
            "_view_name": "LayoutView",
            "align_content": null,
            "align_items": null,
            "align_self": null,
            "border": null,
            "bottom": null,
            "display": null,
            "flex": null,
            "flex_flow": null,
            "grid_area": null,
            "grid_auto_columns": null,
            "grid_auto_flow": null,
            "grid_auto_rows": null,
            "grid_column": null,
            "grid_gap": null,
            "grid_row": null,
            "grid_template_areas": null,
            "grid_template_columns": null,
            "grid_template_rows": null,
            "height": null,
            "justify_content": null,
            "justify_items": null,
            "left": null,
            "margin": null,
            "max_height": null,
            "max_width": null,
            "min_height": null,
            "min_width": null,
            "object_fit": null,
            "object_position": null,
            "order": null,
            "overflow": null,
            "overflow_x": null,
            "overflow_y": null,
            "padding": null,
            "right": null,
            "top": null,
            "visibility": null,
            "width": null
          }
        },
        "31407067355a40b7bd565238fb5ec0f5": {
          "model_module": "@jupyter-widgets/base",
          "model_name": "LayoutModel",
          "model_module_version": "1.2.0",
          "state": {
            "_model_module": "@jupyter-widgets/base",
            "_model_module_version": "1.2.0",
            "_model_name": "LayoutModel",
            "_view_count": null,
            "_view_module": "@jupyter-widgets/base",
            "_view_module_version": "1.2.0",
            "_view_name": "LayoutView",
            "align_content": null,
            "align_items": null,
            "align_self": null,
            "border": null,
            "bottom": null,
            "display": null,
            "flex": null,
            "flex_flow": null,
            "grid_area": null,
            "grid_auto_columns": null,
            "grid_auto_flow": null,
            "grid_auto_rows": null,
            "grid_column": null,
            "grid_gap": null,
            "grid_row": null,
            "grid_template_areas": null,
            "grid_template_columns": null,
            "grid_template_rows": null,
            "height": null,
            "justify_content": null,
            "justify_items": null,
            "left": null,
            "margin": null,
            "max_height": null,
            "max_width": null,
            "min_height": null,
            "min_width": null,
            "object_fit": null,
            "object_position": null,
            "order": null,
            "overflow": null,
            "overflow_x": null,
            "overflow_y": null,
            "padding": null,
            "right": null,
            "top": null,
            "visibility": null,
            "width": null
          }
        },
        "ef7fb896c69b4c03a059d5b704fd2547": {
          "model_module": "@jupyter-widgets/controls",
          "model_name": "DescriptionStyleModel",
          "model_module_version": "1.5.0",
          "state": {
            "_model_module": "@jupyter-widgets/controls",
            "_model_module_version": "1.5.0",
            "_model_name": "DescriptionStyleModel",
            "_view_count": null,
            "_view_module": "@jupyter-widgets/base",
            "_view_module_version": "1.2.0",
            "_view_name": "StyleView",
            "description_width": ""
          }
        },
        "5a0bf57218754d15a1d27cc8994aa6f6": {
          "model_module": "@jupyter-widgets/base",
          "model_name": "LayoutModel",
          "model_module_version": "1.2.0",
          "state": {
            "_model_module": "@jupyter-widgets/base",
            "_model_module_version": "1.2.0",
            "_model_name": "LayoutModel",
            "_view_count": null,
            "_view_module": "@jupyter-widgets/base",
            "_view_module_version": "1.2.0",
            "_view_name": "LayoutView",
            "align_content": null,
            "align_items": null,
            "align_self": null,
            "border": null,
            "bottom": null,
            "display": null,
            "flex": null,
            "flex_flow": null,
            "grid_area": null,
            "grid_auto_columns": null,
            "grid_auto_flow": null,
            "grid_auto_rows": null,
            "grid_column": null,
            "grid_gap": null,
            "grid_row": null,
            "grid_template_areas": null,
            "grid_template_columns": null,
            "grid_template_rows": null,
            "height": null,
            "justify_content": null,
            "justify_items": null,
            "left": null,
            "margin": null,
            "max_height": null,
            "max_width": null,
            "min_height": null,
            "min_width": null,
            "object_fit": null,
            "object_position": null,
            "order": null,
            "overflow": null,
            "overflow_x": null,
            "overflow_y": null,
            "padding": null,
            "right": null,
            "top": null,
            "visibility": null,
            "width": null
          }
        },
        "dc370e10d428414490a14805aa81b393": {
          "model_module": "@jupyter-widgets/controls",
          "model_name": "ProgressStyleModel",
          "model_module_version": "1.5.0",
          "state": {
            "_model_module": "@jupyter-widgets/controls",
            "_model_module_version": "1.5.0",
            "_model_name": "ProgressStyleModel",
            "_view_count": null,
            "_view_module": "@jupyter-widgets/base",
            "_view_module_version": "1.2.0",
            "_view_name": "StyleView",
            "bar_color": null,
            "description_width": ""
          }
        },
        "664baf26e45a453993c7efc44f2f69c1": {
          "model_module": "@jupyter-widgets/base",
          "model_name": "LayoutModel",
          "model_module_version": "1.2.0",
          "state": {
            "_model_module": "@jupyter-widgets/base",
            "_model_module_version": "1.2.0",
            "_model_name": "LayoutModel",
            "_view_count": null,
            "_view_module": "@jupyter-widgets/base",
            "_view_module_version": "1.2.0",
            "_view_name": "LayoutView",
            "align_content": null,
            "align_items": null,
            "align_self": null,
            "border": null,
            "bottom": null,
            "display": null,
            "flex": null,
            "flex_flow": null,
            "grid_area": null,
            "grid_auto_columns": null,
            "grid_auto_flow": null,
            "grid_auto_rows": null,
            "grid_column": null,
            "grid_gap": null,
            "grid_row": null,
            "grid_template_areas": null,
            "grid_template_columns": null,
            "grid_template_rows": null,
            "height": null,
            "justify_content": null,
            "justify_items": null,
            "left": null,
            "margin": null,
            "max_height": null,
            "max_width": null,
            "min_height": null,
            "min_width": null,
            "object_fit": null,
            "object_position": null,
            "order": null,
            "overflow": null,
            "overflow_x": null,
            "overflow_y": null,
            "padding": null,
            "right": null,
            "top": null,
            "visibility": null,
            "width": null
          }
        },
        "69f2c084e535493eb11b5f47b0eccb2e": {
          "model_module": "@jupyter-widgets/controls",
          "model_name": "DescriptionStyleModel",
          "model_module_version": "1.5.0",
          "state": {
            "_model_module": "@jupyter-widgets/controls",
            "_model_module_version": "1.5.0",
            "_model_name": "DescriptionStyleModel",
            "_view_count": null,
            "_view_module": "@jupyter-widgets/base",
            "_view_module_version": "1.2.0",
            "_view_name": "StyleView",
            "description_width": ""
          }
        },
        "42e74047d44040d9b5628b5f04721570": {
          "model_module": "@jupyter-widgets/controls",
          "model_name": "HBoxModel",
          "model_module_version": "1.5.0",
          "state": {
            "_dom_classes": [],
            "_model_module": "@jupyter-widgets/controls",
            "_model_module_version": "1.5.0",
            "_model_name": "HBoxModel",
            "_view_count": null,
            "_view_module": "@jupyter-widgets/controls",
            "_view_module_version": "1.5.0",
            "_view_name": "HBoxView",
            "box_style": "",
            "children": [
              "IPY_MODEL_1de78c6120d34ef99930c2dc50ec4d97",
              "IPY_MODEL_58aaf9ad80a947f1b613b5ea0e1f30cc",
              "IPY_MODEL_1c146e46486048beace3383d4d003d5c"
            ],
            "layout": "IPY_MODEL_9dca944288854855896efd88b0da4723"
          }
        },
        "1de78c6120d34ef99930c2dc50ec4d97": {
          "model_module": "@jupyter-widgets/controls",
          "model_name": "HTMLModel",
          "model_module_version": "1.5.0",
          "state": {
            "_dom_classes": [],
            "_model_module": "@jupyter-widgets/controls",
            "_model_module_version": "1.5.0",
            "_model_name": "HTMLModel",
            "_view_count": null,
            "_view_module": "@jupyter-widgets/controls",
            "_view_module_version": "1.5.0",
            "_view_name": "HTMLView",
            "description": "",
            "description_tooltip": null,
            "layout": "IPY_MODEL_7b4a65d36d5c4320b7ef5d06492bc3c2",
            "placeholder": "​",
            "style": "IPY_MODEL_ec23723ee1594eac8a01fc176e3c9a6f",
            "value": "100%"
          }
        },
        "58aaf9ad80a947f1b613b5ea0e1f30cc": {
          "model_module": "@jupyter-widgets/controls",
          "model_name": "FloatProgressModel",
          "model_module_version": "1.5.0",
          "state": {
            "_dom_classes": [],
            "_model_module": "@jupyter-widgets/controls",
            "_model_module_version": "1.5.0",
            "_model_name": "FloatProgressModel",
            "_view_count": null,
            "_view_module": "@jupyter-widgets/controls",
            "_view_module_version": "1.5.0",
            "_view_name": "ProgressView",
            "bar_style": "success",
            "description": "",
            "description_tooltip": null,
            "layout": "IPY_MODEL_b3c7bbaea90c444f9b5a0af4d326a41d",
            "max": 4542,
            "min": 0,
            "orientation": "horizontal",
            "style": "IPY_MODEL_60ef5fca3d4a4ec0aead767e00c822d2",
            "value": 4542
          }
        },
        "1c146e46486048beace3383d4d003d5c": {
          "model_module": "@jupyter-widgets/controls",
          "model_name": "HTMLModel",
          "model_module_version": "1.5.0",
          "state": {
            "_dom_classes": [],
            "_model_module": "@jupyter-widgets/controls",
            "_model_module_version": "1.5.0",
            "_model_name": "HTMLModel",
            "_view_count": null,
            "_view_module": "@jupyter-widgets/controls",
            "_view_module_version": "1.5.0",
            "_view_name": "HTMLView",
            "description": "",
            "description_tooltip": null,
            "layout": "IPY_MODEL_5f63afd88d714c22a6c12f9a8ac33c93",
            "placeholder": "​",
            "style": "IPY_MODEL_335e36da2a1942f8bbbd285a0ccb7eb7",
            "value": " 4542/4542 [00:00&lt;00:00, 158471.80it/s]"
          }
        },
        "9dca944288854855896efd88b0da4723": {
          "model_module": "@jupyter-widgets/base",
          "model_name": "LayoutModel",
          "model_module_version": "1.2.0",
          "state": {
            "_model_module": "@jupyter-widgets/base",
            "_model_module_version": "1.2.0",
            "_model_name": "LayoutModel",
            "_view_count": null,
            "_view_module": "@jupyter-widgets/base",
            "_view_module_version": "1.2.0",
            "_view_name": "LayoutView",
            "align_content": null,
            "align_items": null,
            "align_self": null,
            "border": null,
            "bottom": null,
            "display": null,
            "flex": null,
            "flex_flow": null,
            "grid_area": null,
            "grid_auto_columns": null,
            "grid_auto_flow": null,
            "grid_auto_rows": null,
            "grid_column": null,
            "grid_gap": null,
            "grid_row": null,
            "grid_template_areas": null,
            "grid_template_columns": null,
            "grid_template_rows": null,
            "height": null,
            "justify_content": null,
            "justify_items": null,
            "left": null,
            "margin": null,
            "max_height": null,
            "max_width": null,
            "min_height": null,
            "min_width": null,
            "object_fit": null,
            "object_position": null,
            "order": null,
            "overflow": null,
            "overflow_x": null,
            "overflow_y": null,
            "padding": null,
            "right": null,
            "top": null,
            "visibility": null,
            "width": null
          }
        },
        "7b4a65d36d5c4320b7ef5d06492bc3c2": {
          "model_module": "@jupyter-widgets/base",
          "model_name": "LayoutModel",
          "model_module_version": "1.2.0",
          "state": {
            "_model_module": "@jupyter-widgets/base",
            "_model_module_version": "1.2.0",
            "_model_name": "LayoutModel",
            "_view_count": null,
            "_view_module": "@jupyter-widgets/base",
            "_view_module_version": "1.2.0",
            "_view_name": "LayoutView",
            "align_content": null,
            "align_items": null,
            "align_self": null,
            "border": null,
            "bottom": null,
            "display": null,
            "flex": null,
            "flex_flow": null,
            "grid_area": null,
            "grid_auto_columns": null,
            "grid_auto_flow": null,
            "grid_auto_rows": null,
            "grid_column": null,
            "grid_gap": null,
            "grid_row": null,
            "grid_template_areas": null,
            "grid_template_columns": null,
            "grid_template_rows": null,
            "height": null,
            "justify_content": null,
            "justify_items": null,
            "left": null,
            "margin": null,
            "max_height": null,
            "max_width": null,
            "min_height": null,
            "min_width": null,
            "object_fit": null,
            "object_position": null,
            "order": null,
            "overflow": null,
            "overflow_x": null,
            "overflow_y": null,
            "padding": null,
            "right": null,
            "top": null,
            "visibility": null,
            "width": null
          }
        },
        "ec23723ee1594eac8a01fc176e3c9a6f": {
          "model_module": "@jupyter-widgets/controls",
          "model_name": "DescriptionStyleModel",
          "model_module_version": "1.5.0",
          "state": {
            "_model_module": "@jupyter-widgets/controls",
            "_model_module_version": "1.5.0",
            "_model_name": "DescriptionStyleModel",
            "_view_count": null,
            "_view_module": "@jupyter-widgets/base",
            "_view_module_version": "1.2.0",
            "_view_name": "StyleView",
            "description_width": ""
          }
        },
        "b3c7bbaea90c444f9b5a0af4d326a41d": {
          "model_module": "@jupyter-widgets/base",
          "model_name": "LayoutModel",
          "model_module_version": "1.2.0",
          "state": {
            "_model_module": "@jupyter-widgets/base",
            "_model_module_version": "1.2.0",
            "_model_name": "LayoutModel",
            "_view_count": null,
            "_view_module": "@jupyter-widgets/base",
            "_view_module_version": "1.2.0",
            "_view_name": "LayoutView",
            "align_content": null,
            "align_items": null,
            "align_self": null,
            "border": null,
            "bottom": null,
            "display": null,
            "flex": null,
            "flex_flow": null,
            "grid_area": null,
            "grid_auto_columns": null,
            "grid_auto_flow": null,
            "grid_auto_rows": null,
            "grid_column": null,
            "grid_gap": null,
            "grid_row": null,
            "grid_template_areas": null,
            "grid_template_columns": null,
            "grid_template_rows": null,
            "height": null,
            "justify_content": null,
            "justify_items": null,
            "left": null,
            "margin": null,
            "max_height": null,
            "max_width": null,
            "min_height": null,
            "min_width": null,
            "object_fit": null,
            "object_position": null,
            "order": null,
            "overflow": null,
            "overflow_x": null,
            "overflow_y": null,
            "padding": null,
            "right": null,
            "top": null,
            "visibility": null,
            "width": null
          }
        },
        "60ef5fca3d4a4ec0aead767e00c822d2": {
          "model_module": "@jupyter-widgets/controls",
          "model_name": "ProgressStyleModel",
          "model_module_version": "1.5.0",
          "state": {
            "_model_module": "@jupyter-widgets/controls",
            "_model_module_version": "1.5.0",
            "_model_name": "ProgressStyleModel",
            "_view_count": null,
            "_view_module": "@jupyter-widgets/base",
            "_view_module_version": "1.2.0",
            "_view_name": "StyleView",
            "bar_color": null,
            "description_width": ""
          }
        },
        "5f63afd88d714c22a6c12f9a8ac33c93": {
          "model_module": "@jupyter-widgets/base",
          "model_name": "LayoutModel",
          "model_module_version": "1.2.0",
          "state": {
            "_model_module": "@jupyter-widgets/base",
            "_model_module_version": "1.2.0",
            "_model_name": "LayoutModel",
            "_view_count": null,
            "_view_module": "@jupyter-widgets/base",
            "_view_module_version": "1.2.0",
            "_view_name": "LayoutView",
            "align_content": null,
            "align_items": null,
            "align_self": null,
            "border": null,
            "bottom": null,
            "display": null,
            "flex": null,
            "flex_flow": null,
            "grid_area": null,
            "grid_auto_columns": null,
            "grid_auto_flow": null,
            "grid_auto_rows": null,
            "grid_column": null,
            "grid_gap": null,
            "grid_row": null,
            "grid_template_areas": null,
            "grid_template_columns": null,
            "grid_template_rows": null,
            "height": null,
            "justify_content": null,
            "justify_items": null,
            "left": null,
            "margin": null,
            "max_height": null,
            "max_width": null,
            "min_height": null,
            "min_width": null,
            "object_fit": null,
            "object_position": null,
            "order": null,
            "overflow": null,
            "overflow_x": null,
            "overflow_y": null,
            "padding": null,
            "right": null,
            "top": null,
            "visibility": null,
            "width": null
          }
        },
        "335e36da2a1942f8bbbd285a0ccb7eb7": {
          "model_module": "@jupyter-widgets/controls",
          "model_name": "DescriptionStyleModel",
          "model_module_version": "1.5.0",
          "state": {
            "_model_module": "@jupyter-widgets/controls",
            "_model_module_version": "1.5.0",
            "_model_name": "DescriptionStyleModel",
            "_view_count": null,
            "_view_module": "@jupyter-widgets/base",
            "_view_module_version": "1.2.0",
            "_view_name": "StyleView",
            "description_width": ""
          }
        }
      }
    }
  },
  "cells": [
    {
      "cell_type": "markdown",
      "source": [
        "# Imports and Data Loader"
      ],
      "metadata": {
        "id": "xSTG0-Uck0CZ"
      }
    },
    {
      "cell_type": "code",
      "execution_count": null,
      "metadata": {
        "id": "Tc2ETzx1F62o"
      },
      "outputs": [],
      "source": [
        "import torch\n",
        "import matplotlib.pyplot as plt\n",
        "import torchvision.datasets as dsets\n",
        "import torchvision.transforms as transforms\n",
        "import numpy as np\n",
        "import torch.nn as nn\n",
        "import torch.nn.functional as F\n",
        "import torch.utils\n",
        "import torch.distributions\n",
        "import torchvision\n",
        "import numpy as np\n",
        "from torchvision.datasets import MNIST\n",
        "from PIL import Image\n",
        "import random\n",
        "import imutils\n",
        "import cv2\n",
        "import pickle"
      ]
    },
    {
      "cell_type": "code",
      "source": [
        "transform = transforms.Compose([\n",
        "    transforms.ToTensor(),\n",
        "    transforms.Normalize(0.1307, 0.3081)\n",
        "    ])\n",
        "batch_size = 100\n",
        "learning_rate = 0.1"
      ],
      "metadata": {
        "id": "1Ar_qVGAJjbr"
      },
      "execution_count": null,
      "outputs": []
    },
    {
      "cell_type": "code",
      "source": [
        "colors_arr = [(203, 215, 214),(209, 84, 69), (201, 235, 52),(8, 218, 83), (222, 55, 216),(83, 52, 235),(174, 52, 235),  (33, 228, 235), (79, 67, 66), (240, 172, 14) ]"
      ],
      "metadata": {
        "id": "yF92RCv6DUEd"
      },
      "execution_count": null,
      "outputs": []
    },
    {
      "cell_type": "code",
      "source": [
        "class Change_Color(MNIST):\n",
        "  def __init__(self, root, train=True, download=False, transform=False, target_transform= None):\n",
        "    super(Change_Color, self).__init__(root, train=train, download=download, transform=transform, target_transform =target_transform)\n",
        "\n",
        "  def __getitem__(self,index ):\n",
        "    image, label = self.data[index], self.targets[index]\n",
        "    image_np =  image.numpy()\n",
        "    black_indicator = 0\n",
        "\n",
        "    #Resize the vector to fit RGB\n",
        "    rgb_img = cv2.cvtColor(image_np,cv2.COLOR_GRAY2RGB)\n",
        "    #Generate random color\n",
        "    int_label = int(label)\n",
        "    nd_color = random.choice(colors_arr)\n",
        "\n",
        "    rgb_img =  np.where(rgb_img>black_indicator, nd_color, rgb_img).astype(np.uint8)\n",
        "    image_np= Image.fromarray(rgb_img)\n",
        "\n",
        "    if self.transform is not None:\n",
        "        final_image = self.transform(rgb_img)\n",
        "    if self.target_transform is not None:\n",
        "        label = self.target_transform(label)\n",
        "\n",
        "\n",
        "    return final_image, label"
      ],
      "metadata": {
        "id": "NEUBwOxsF-Cg"
      },
      "execution_count": null,
      "outputs": []
    },
    {
      "cell_type": "code",
      "source": [
        "transform = transforms.ToTensor()\n",
        "train_dataset = Change_Color(root='./data', train=True, download=True, transform=transform)"
      ],
      "metadata": {
        "id": "1dqcslMtGArq",
        "colab": {
          "base_uri": "https://localhost:8080/",
          "height": 443,
          "referenced_widgets": [
            "e4397da228ed4644bd133c1468b3306f",
            "f6579783e43f45e9841a5ec970067557",
            "626d1a2a449240a8b5adc12dc698744a",
            "cdb1eda4580947988875b6ef212cb751",
            "f8ad4accacc8456ba590ec7950f2e062",
            "5e1081d7b74747a9ae9b4e68c6fef06e",
            "d391990c1b424415a03174f9b190cf94",
            "fc9a355ef2a645a8899deef3009dbfc2",
            "cca19da310e5431fa18f38b759b3fd33",
            "bd18b86990d443c58846bd38d9d14d92",
            "46c5281e6e3d4841ab67ecbf8add12ad",
            "743c109a23db422ab7ad3068a581245d",
            "d9631cb1b69642a7945237272612c236",
            "6f8603fd1b974fe09981c4d231d9ce99",
            "d22f216672054755917a01da4bf852a3",
            "b394c9b4ce1144c0831c2f9488e6a984",
            "bb05ec622f5549798276c720455dd1a0",
            "0a4fe1c43c2a49418273c4ee19642cc4",
            "8a38759ec466443fb3088f49755a81a8",
            "6ba55c583303420fa85e727725550366",
            "a43adf3346124d28b75f96c563c041fa",
            "aa119fc732324ec3aaa14b1bdfa33e5d",
            "06bf245ab0cb4be5a6f32e7c5dc9e8d1",
            "682cc515492645f1a8fbea6ee1df7f83",
            "a01f360b8bbf4d98a79a7301a22ec6ae",
            "f12b89311ac04e3e9914f4f6bfaf5d12",
            "670e6792a70f4b488274b710eb802816",
            "31407067355a40b7bd565238fb5ec0f5",
            "ef7fb896c69b4c03a059d5b704fd2547",
            "5a0bf57218754d15a1d27cc8994aa6f6",
            "dc370e10d428414490a14805aa81b393",
            "664baf26e45a453993c7efc44f2f69c1",
            "69f2c084e535493eb11b5f47b0eccb2e",
            "42e74047d44040d9b5628b5f04721570",
            "1de78c6120d34ef99930c2dc50ec4d97",
            "58aaf9ad80a947f1b613b5ea0e1f30cc",
            "1c146e46486048beace3383d4d003d5c",
            "9dca944288854855896efd88b0da4723",
            "7b4a65d36d5c4320b7ef5d06492bc3c2",
            "ec23723ee1594eac8a01fc176e3c9a6f",
            "b3c7bbaea90c444f9b5a0af4d326a41d",
            "60ef5fca3d4a4ec0aead767e00c822d2",
            "5f63afd88d714c22a6c12f9a8ac33c93",
            "335e36da2a1942f8bbbd285a0ccb7eb7"
          ]
        },
        "outputId": "f683ed76-83e9-4749-ace9-b2a396354b4b"
      },
      "execution_count": null,
      "outputs": [
        {
          "output_type": "stream",
          "name": "stdout",
          "text": [
            "Downloading http://yann.lecun.com/exdb/mnist/train-images-idx3-ubyte.gz\n",
            "Downloading http://yann.lecun.com/exdb/mnist/train-images-idx3-ubyte.gz to ./data/Change_Color/raw/train-images-idx3-ubyte.gz\n"
          ]
        },
        {
          "output_type": "display_data",
          "data": {
            "text/plain": [
              "  0%|          | 0/9912422 [00:00<?, ?it/s]"
            ],
            "application/vnd.jupyter.widget-view+json": {
              "version_major": 2,
              "version_minor": 0,
              "model_id": "e4397da228ed4644bd133c1468b3306f"
            }
          },
          "metadata": {}
        },
        {
          "output_type": "stream",
          "name": "stdout",
          "text": [
            "Extracting ./data/Change_Color/raw/train-images-idx3-ubyte.gz to ./data/Change_Color/raw\n",
            "\n",
            "Downloading http://yann.lecun.com/exdb/mnist/train-labels-idx1-ubyte.gz\n",
            "Downloading http://yann.lecun.com/exdb/mnist/train-labels-idx1-ubyte.gz to ./data/Change_Color/raw/train-labels-idx1-ubyte.gz\n"
          ]
        },
        {
          "output_type": "display_data",
          "data": {
            "text/plain": [
              "  0%|          | 0/28881 [00:00<?, ?it/s]"
            ],
            "application/vnd.jupyter.widget-view+json": {
              "version_major": 2,
              "version_minor": 0,
              "model_id": "743c109a23db422ab7ad3068a581245d"
            }
          },
          "metadata": {}
        },
        {
          "output_type": "stream",
          "name": "stdout",
          "text": [
            "Extracting ./data/Change_Color/raw/train-labels-idx1-ubyte.gz to ./data/Change_Color/raw\n",
            "\n",
            "Downloading http://yann.lecun.com/exdb/mnist/t10k-images-idx3-ubyte.gz\n",
            "Downloading http://yann.lecun.com/exdb/mnist/t10k-images-idx3-ubyte.gz to ./data/Change_Color/raw/t10k-images-idx3-ubyte.gz\n"
          ]
        },
        {
          "output_type": "display_data",
          "data": {
            "text/plain": [
              "  0%|          | 0/1648877 [00:00<?, ?it/s]"
            ],
            "application/vnd.jupyter.widget-view+json": {
              "version_major": 2,
              "version_minor": 0,
              "model_id": "06bf245ab0cb4be5a6f32e7c5dc9e8d1"
            }
          },
          "metadata": {}
        },
        {
          "output_type": "stream",
          "name": "stdout",
          "text": [
            "Extracting ./data/Change_Color/raw/t10k-images-idx3-ubyte.gz to ./data/Change_Color/raw\n",
            "\n",
            "Downloading http://yann.lecun.com/exdb/mnist/t10k-labels-idx1-ubyte.gz\n",
            "Downloading http://yann.lecun.com/exdb/mnist/t10k-labels-idx1-ubyte.gz to ./data/Change_Color/raw/t10k-labels-idx1-ubyte.gz\n"
          ]
        },
        {
          "output_type": "display_data",
          "data": {
            "text/plain": [
              "  0%|          | 0/4542 [00:00<?, ?it/s]"
            ],
            "application/vnd.jupyter.widget-view+json": {
              "version_major": 2,
              "version_minor": 0,
              "model_id": "42e74047d44040d9b5628b5f04721570"
            }
          },
          "metadata": {}
        },
        {
          "output_type": "stream",
          "name": "stdout",
          "text": [
            "Extracting ./data/Change_Color/raw/t10k-labels-idx1-ubyte.gz to ./data/Change_Color/raw\n",
            "\n"
          ]
        }
      ]
    },
    {
      "cell_type": "code",
      "source": [
        "#upload the colored dataset :)\n",
        "for i in range(len(train_dataset)):\n",
        "    train_dataset.__getitem__(i)"
      ],
      "metadata": {
        "id": "JpWa5PC6GCDD"
      },
      "execution_count": null,
      "outputs": []
    },
    {
      "cell_type": "code",
      "source": [
        "def plot_dataset_digits(dataset):\n",
        "  fig = plt.figure(figsize=(13, 8))\n",
        "  columns = 6\n",
        "  rows = 3\n",
        "  ax = []\n",
        "\n",
        "  for i in range(columns * rows):\n",
        "    img, label = dataset[i]\n",
        "    img = img.T\n",
        "    np_arr = img.numpy()\n",
        "    flipVertical = cv2.flip(np_arr, 0)\n",
        "    rotated_image = imutils.rotate(flipVertical, angle = -90)\n",
        "    ax.append(fig.add_subplot(rows, columns, i + 1))\n",
        "    plt.imshow(rotated_image)\n",
        "    plt.axis('off')\n",
        "\n",
        "  plt.show()"
      ],
      "metadata": {
        "id": "qppzsXUrH0EG"
      },
      "execution_count": null,
      "outputs": []
    },
    {
      "cell_type": "code",
      "source": [
        "plot_dataset_digits(train_dataset)"
      ],
      "metadata": {
        "id": "oe96QJNTH2Hx",
        "colab": {
          "base_uri": "https://localhost:8080/",
          "height": 497
        },
        "outputId": "274d7adf-1789-4f9f-f872-680feea06e53"
      },
      "execution_count": null,
      "outputs": [
        {
          "output_type": "stream",
          "name": "stderr",
          "text": [
            "<ipython-input-8-9ce8ff5865b9>:9: UserWarning: The use of `x.T` on tensors of dimension other than 2 to reverse their shape is deprecated and it will throw an error in a future release. Consider `x.mT` to transpose batches of matrices or `x.permute(*torch.arange(x.ndim - 1, -1, -1))` to reverse the dimensions of a tensor. (Triggered internally at ../aten/src/ATen/native/TensorShape.cpp:3277.)\n",
            "  img = img.T\n"
          ]
        },
        {
          "output_type": "display_data",
          "data": {
            "text/plain": [
              "<Figure size 936x576 with 18 Axes>"
            ],
            "image/png": "[encoded data removed]"
          },
          "metadata": {
            "needs_background": "light"
          }
        }
      ]
    },
    {
      "cell_type": "code",
      "source": [
        "device = 'cuda' if torch.cuda.is_available() else 'cpu'"
      ],
      "metadata": {
        "id": "H1XB_ox1V9hg"
      },
      "execution_count": null,
      "outputs": []
    },
    {
      "cell_type": "code",
      "source": [
        "data_loader = torch.utils.data.DataLoader(dataset=train_dataset, batch_size=100,  shuffle=True)"
      ],
      "metadata": {
        "id": "7Wkmop7KUVXJ"
      },
      "execution_count": null,
      "outputs": []
    },
    {
      "cell_type": "markdown",
      "source": [
        "# Train Continuous VAE"
      ],
      "metadata": {
        "id": "iIwUZWRkY_1x"
      }
    },
    {
      "cell_type": "code",
      "source": [
        "class Encoder_Continuous(nn.Module):\n",
        "  def __init__(self, latent_dims):\n",
        "    super(Encoder_Continuous, self).__init__()\n",
        "    self.linear1 = nn.Linear(28*28*3, 512)\n",
        "    self.to_mean_logvar = nn.Linear(512, 2*latent_dims)\n",
        "\n",
        "  def reparametrization_trick(self, mu, log_var):\n",
        "    # Using reparameterization trick to sample from a gaussian\n",
        "    eps = torch.randn_like(log_var)\n",
        "    return mu + torch.exp(log_var / 2) * eps\n",
        "\n",
        "  def forward(self, x):\n",
        "    x = torch.flatten(x, start_dim=1)\n",
        "    x = F.relu(self.linear1(x))\n",
        "    mu, log_var = torch.split(self.to_mean_logvar(x),2, dim=-1)\n",
        "    self.kl = -0.5 * torch.sum(1 + log_var - mu.pow(2) - log_var.exp())\n",
        "    return self.reparametrization_trick(mu, log_var)"
      ],
      "metadata": {
        "id": "L3_5X8JAYDUB"
      },
      "execution_count": null,
      "outputs": []
    },
    {
      "cell_type": "code",
      "source": [
        "class Decoder_Continuous(nn.Module):\n",
        "  def __init__(self, latent_dims):\n",
        "    super(Decoder_Continuous, self).__init__()\n",
        "    self.linear1 = nn.Linear(latent_dims, 512)\n",
        "    self.linear2 = nn.Linear(512, 28*28*3)\n",
        "\n",
        "  def forward(self, z):\n",
        "    z = F.relu(self.linear1(z))\n",
        "    z = torch.sigmoid(self.linear2(z))\n",
        "    return z.reshape((-1, 3, 28, 28))"
      ],
      "metadata": {
        "id": "BQu_o8ULX9hz"
      },
      "execution_count": null,
      "outputs": []
    },
    {
      "cell_type": "code",
      "source": [
        "class Vae_Continous(nn.Module):\n",
        "  def __init__(self, latent_dims):\n",
        "    super().__init__()\n",
        "    self.encoder = Encoder_Continuous(latent_dims)\n",
        "    self.decoder = Decoder_Continuous(latent_dims)\n",
        "\n",
        "  def forward(self, x):\n",
        "    z = self.encoder(x)\n",
        "    return self.decoder(z)"
      ],
      "metadata": {
        "id": "qBlncpHEYfz6"
      },
      "execution_count": null,
      "outputs": []
    },
    {
      "cell_type": "code",
      "source": [
        "def train_continous(vae, data, epochs):\n",
        "    opt = torch.optim.Adam(vae.parameters(), lr = 0.001)\n",
        "\n",
        "    for epoch in range(epochs):\n",
        "        print(f'epoch num is:{epoch}')\n",
        "        for i, (images, labels) in enumerate(data):\n",
        "            images = images.to(device) # GPU\n",
        "            opt.zero_grad()\n",
        "            img_hat = vae(images)\n",
        "            loss = F.binary_cross_entropy(img_hat, images, reduction='sum') + vae.encoder.kl\n",
        "            loss.backward()\n",
        "            opt.step()\n",
        "\n",
        "\n",
        "    return vae"
      ],
      "metadata": {
        "id": "5IP8GE9LlWcC"
      },
      "execution_count": null,
      "outputs": []
    },
    {
      "cell_type": "code",
      "source": [
        "z_dim=2\n",
        "vae_continous = Vae_Continous(z_dim).to(device) # GPU\n",
        "vae_continous = train_continous(vae_continous, data_loader, epochs=20)"
      ],
      "metadata": {
        "id": "buxuAS8ZlZ5l",
        "colab": {
          "base_uri": "https://localhost:8080/"
        },
        "outputId": "02b9647b-7b08-4e7d-8715-92c3d22f32ef"
      },
      "execution_count": null,
      "outputs": [
        {
          "output_type": "stream",
          "name": "stdout",
          "text": [
            "epoch num is:0\n",
            "epoch num is:1\n",
            "epoch num is:2\n",
            "epoch num is:3\n",
            "epoch num is:4\n",
            "epoch num is:5\n",
            "epoch num is:6\n",
            "epoch num is:7\n",
            "epoch num is:8\n",
            "epoch num is:9\n",
            "epoch num is:10\n",
            "epoch num is:11\n",
            "epoch num is:12\n",
            "epoch num is:13\n",
            "epoch num is:14\n",
            "epoch num is:15\n",
            "epoch num is:16\n",
            "epoch num is:17\n",
            "epoch num is:18\n",
            "epoch num is:19\n"
          ]
        }
      ]
    },
    {
      "cell_type": "code",
      "source": [
        "with open(\"train_hw2_vae_cont_206238891.pkl\", \"wb\") as f:\n",
        "  pickle.dump(vae_continous, f)"
      ],
      "metadata": {
        "id": "YtcjN15dHgLd"
      },
      "execution_count": null,
      "outputs": []
    },
    {
      "cell_type": "markdown",
      "source": [
        "# Train Discrete VAE"
      ],
      "metadata": {
        "id": "eUn6XIQLZHYI"
      }
    },
    {
      "cell_type": "code",
      "source": [
        "def sample_gumbel(shape, eps=1e-20):\n",
        "    #Sample from Gumbel(0, 1)\n",
        "    U = torch.rand(shape).float()\n",
        "    return - torch.log(eps - torch.log(U + eps))\n",
        "\n",
        "def gumbel_softmax_sample(logits, tau=1, eps=1e-20):\n",
        "    dims = len(logits.size())\n",
        "    gumbel_noise = sample_gumbel(logits.size(), eps=eps)\n",
        "    y = logits + gumbel_noise\n",
        "    return F.softmax(y / tau, dim=-1)\n",
        "\n",
        "def gumbel_softmax(logits, tau=1, hard=False, eps=1e-10):\n",
        "\n",
        "    bs, N,K = logits.size()\n",
        "    y_soft = gumbel_softmax_sample(logits.view(bs*N,K), tau=tau, eps=eps)\n",
        "\n",
        "    if hard:\n",
        "        k = torch.argmax(y_soft, dim=-1)\n",
        "        y_hard = F.one_hot(k, num_classes=K)\n",
        "\n",
        "        # 1. makes the output value exactly one-hot\n",
        "        # 2.makes the gradient equal to y_soft gradient\n",
        "        y = y_hard - y_soft.detach() + y_soft\n",
        "    else:\n",
        "        y = y_soft\n",
        "\n",
        "    return y.reshape(bs, N*K)"
      ],
      "metadata": {
        "id": "RYqh-V0-aXxW"
      },
      "execution_count": null,
      "outputs": []
    },
    {
      "cell_type": "code",
      "source": [
        "class DiscreteVAE(nn.Module):\n",
        "    def __init__(self, latent_dim, categorical_dim):\n",
        "        super(DiscreteVAE, self).__init__()\n",
        "\n",
        "        self.fc1 = nn.Linear(784*3, 512)\n",
        "        self.fc2 = nn.Linear(512, 256)\n",
        "        self.fc3 = nn.Linear(256, latent_dim * categorical_dim)\n",
        "\n",
        "        self.fc4 = nn.Linear(latent_dim * categorical_dim, 256)\n",
        "        self.fc5 = nn.Linear(256, 512)\n",
        "        self.fc6 = nn.Linear(512, 784*3)\n",
        "\n",
        "        self.relu = nn.ReLU()\n",
        "        self.sigmoid = nn.Sigmoid()\n",
        "\n",
        "        self.N = latent_dim\n",
        "        self.K = categorical_dim\n",
        "\n",
        "    def encoder(self, x):\n",
        "        h1 = self.relu(self.fc1(x))\n",
        "        h2 = self.relu(self.fc2(h1))\n",
        "        return self.relu(self.fc3(h2))\n",
        "\n",
        "    def decoder(self, z):\n",
        "        h4 = self.relu(self.fc4(z))\n",
        "        h5 = self.relu(self.fc5(h4))\n",
        "        return self.sigmoid(self.fc6(h5))\n",
        "\n",
        "    def forward(self, x, temp, hard):\n",
        "        q = self.encoder(x.view(-1, 784*3))\n",
        "        q_y = q.view(q.size(0), self.N, self.K)\n",
        "        z = gumbel_softmax(q_y, temp, hard)\n",
        "        return self.decoder(z), F.softmax(q_y, dim=-1).reshape(q.size(0)*self.N, self.K)"
      ],
      "metadata": {
        "id": "m-OergCcot6Q"
      },
      "execution_count": null,
      "outputs": []
    },
    {
      "cell_type": "code",
      "source": [
        "N = 6\n",
        "K = 25  # one-of-K vector\n",
        "\n",
        "temp = 1.0\n",
        "hard = False\n",
        "temp_min = 0.5\n",
        "ANNEAL_RATE = 0.00003"
      ],
      "metadata": {
        "id": "PpiS4z4eoWBc"
      },
      "execution_count": null,
      "outputs": []
    },
    {
      "cell_type": "code",
      "source": [
        "vae_discrete = DiscreteVAE(N, K).to(device)\n",
        "\n",
        "optimizer = torch.optim.Adam(vae_discrete.parameters(), lr=1e-3)"
      ],
      "metadata": {
        "id": "6N5MrtSR4R9s"
      },
      "execution_count": null,
      "outputs": []
    },
    {
      "cell_type": "code",
      "source": [
        "# Reconstruction + KL divergence losses summed over all elements and batch\n",
        "def loss_function(recon_x, x, qy):\n",
        "    BCE = F.binary_cross_entropy(recon_x, x.view(-1, 28*28*3), reduction='sum') / x.shape[0]\n",
        "\n",
        "    log_ratio = torch.log(qy * qy.size(-1) + 1e-20)\n",
        "    KLD = torch.sum(qy * log_ratio, dim=-1).mean()\n",
        "\n",
        "    return BCE + KLD\n",
        "\n",
        "\n",
        "def train_discrete(num_epochs, temp=1.0, hard=False):\n",
        "    vae_discrete.train()\n",
        "    train_loss = 0\n",
        "    total = 0\n",
        "    for epoch in range(num_epochs):\n",
        "        print(f'epoch num:{epoch}')\n",
        "        for batch_idx, (x, _) in enumerate(data_loader):\n",
        "            optimizer.zero_grad()\n",
        "            x_hat, qy = vae_discrete(x, temp, hard)\n",
        "            loss = loss_function(x_hat, x, qy)\n",
        "            loss.backward()\n",
        "            total += len(x)\n",
        "            train_loss += loss.item() * len(x)\n",
        "            optimizer.step()\n",
        "            if batch_idx % 100 == 1:\n",
        "                temp = np.maximum(temp * np.exp(-ANNEAL_RATE * batch_idx), temp_min)\n",
        "\n",
        "            #if (batch_idx+1) % 200==0:\n",
        "              #print('Epoch [%d/%d], Iter [%d/%d]' %(epoch+1, num_epochs, batch_idx+1, len(train_loader)))\n"
      ],
      "metadata": {
        "id": "b0snOnssofXH"
      },
      "execution_count": null,
      "outputs": []
    },
    {
      "cell_type": "code",
      "source": [
        "train_discrete(20, temp, hard)"
      ],
      "metadata": {
        "id": "4dFEep_3oxNs",
        "colab": {
          "base_uri": "https://localhost:8080/"
        },
        "outputId": "b3c3f711-0a1f-4a47-f80c-672b1ad152f3"
      },
      "execution_count": null,
      "outputs": [
        {
          "output_type": "stream",
          "name": "stdout",
          "text": [
            "epoch num:0\n",
            "epoch num:1\n",
            "epoch num:2\n",
            "epoch num:3\n",
            "epoch num:4\n",
            "epoch num:5\n",
            "epoch num:6\n",
            "epoch num:7\n",
            "epoch num:8\n",
            "epoch num:9\n",
            "epoch num:10\n",
            "epoch num:11\n",
            "epoch num:12\n",
            "epoch num:13\n",
            "epoch num:14\n",
            "epoch num:15\n",
            "epoch num:16\n",
            "epoch num:17\n",
            "epoch num:18\n",
            "epoch num:19\n"
          ]
        }
      ]
    },
    {
      "cell_type": "code",
      "source": [
        "with open(\"train_hw2_vae_dis_206238891.pkl\", \"wb\") as f:\n",
        "  pickle.dump(vae_discrete, f)"
      ],
      "metadata": {
        "id": "V4F6eJ-nwjuQ"
      },
      "execution_count": null,
      "outputs": []
    },
    {
      "cell_type": "markdown",
      "source": [
        "# Train Continuous and Discrete VAE"
      ],
      "metadata": {
        "id": "lJF_eLxZZP0O"
      }
    },
    {
      "cell_type": "code",
      "source": [
        "def sample_gumbel(shape, eps=1e-20):\n",
        "    #Sample from Gumbel(0, 1)\n",
        "    U = torch.rand(shape).float()\n",
        "    return - torch.log(eps - torch.log(U + eps))\n",
        "\n",
        "def gumbel_softmax_sample(logits, tau=1, eps=1e-20):\n",
        "    dims = len(logits.size())\n",
        "    gumbel_noise = sample_gumbel(logits.size(), eps=eps)\n",
        "    y = logits + gumbel_noise\n",
        "    return F.softmax(y / tau, dim=-1)\n",
        "\n",
        "def gumbel_softmax(logits, tau=1, hard=False, eps=1e-10):\n",
        "\n",
        "    bs, N,K = logits.size()\n",
        "    y_soft = gumbel_softmax_sample(logits.view(bs*N,K), tau=tau, eps=eps)\n",
        "\n",
        "    if hard:\n",
        "        k = torch.argmax(y_soft, dim=-1)\n",
        "        y_hard = F.one_hot(k, num_classes=K)\n",
        "\n",
        "        # 1. makes the output value exactly one-hot\n",
        "        # 2.makes the gradient equal to y_soft gradient\n",
        "        y = y_hard - y_soft.detach() + y_soft\n",
        "    else:\n",
        "        y = y_soft\n",
        "\n",
        "    return y.reshape(bs, N*K)"
      ],
      "metadata": {
        "id": "nc157VU_9f6y"
      },
      "execution_count": null,
      "outputs": []
    },
    {
      "cell_type": "code",
      "source": [
        "class VAE_Combined(nn.Module):\n",
        "  def __init__(self, z_dim,N,K):\n",
        "    super(VAE_Combined, self).__init__()\n",
        "    self.fc1 = nn.Linear(3*28*28, 512)\n",
        "    self.fc2 = nn.Linear(512, 256)\n",
        "    self.fc_to_d = nn.Linear(256, N * K)\n",
        "    self.fc_to_n = nn.Linear(256, 2*z_dim)\n",
        "\n",
        "    self.fc3 = nn.Linear(z_dim + N*K, 256)\n",
        "    self.fc4 = nn.Linear(256, 512)\n",
        "    self.fc5 = nn.Linear(512, 28*28*3)\n",
        "\n",
        "    self.N = N\n",
        "    self.K = K\n",
        "    self.normal_latent_dim = z_dim\n",
        "\n",
        "    self.relu = nn.ReLU()\n",
        "    self.sigmoid = nn.Sigmoid()\n",
        "\n",
        "\n",
        "  def reparametrization_trick(self, mu, log_var):\n",
        "    eps = torch.randn_like(log_var)\n",
        "    return mu + torch.exp(log_var / 2) * eps\n",
        "\n",
        "  def encoder_normal(self, x):\n",
        "    h1 = F.relu(self.fc1(x))\n",
        "    h2 = F.relu(self.fc2(h1))\n",
        "    h3 = self.fc_to_n(h2)\n",
        "    mu, log_var = torch.split(h3,self.normal_latent_dim, dim=-1)\n",
        "    kl = -0.5 * torch.sum(1 + log_var - mu.pow(2) - log_var.exp())\n",
        "    z = self.reparametrization_trick(mu, log_var)\n",
        "    return z,kl\n",
        "\n",
        "  def encoder_discrete(self, device, x, temp, hard):\n",
        "    h1 = self.relu(self.fc1(x))\n",
        "    h2 = self.relu(self.fc2(h1))\n",
        "    q =  self.relu(self.fc_to_d(h2))\n",
        "    q_y = q.view(q.size(0), self.N, self.K)\n",
        "    z = gumbel_softmax(q_y, temp, hard)\n",
        "    return z, F.softmax(q_y, dim=-1).reshape(q.size(0)*self.N, self.K)\n",
        "\n",
        "  def encoder_combined(self, device, x, temp, hard):\n",
        "    input = x.view(-1, 28*28*3)\n",
        "    z1_cont, kl = self.encoder_normal(input)\n",
        "    z2_dis, qy = self.encoder_discrete(device, input, temp, hard)\n",
        "    z_combined = torch.cat((z1_cont, z2_dis), dim = 1)\n",
        "    return z_combined, qy, kl\n",
        "\n",
        "  def decoder(self,x):\n",
        "    output = F.relu(self.fc3(x))\n",
        "    output = F.relu(self.fc4(output))\n",
        "    output = self.sigmoid(self.fc5(output))\n",
        "    output = output.view(-1, 3,28,28)\n",
        "    return output\n",
        "\n",
        "  def forward(self, device, input, temp, hard):\n",
        "    x, qy, kl = self.encoder_combined(device, input, temp, hard)\n",
        "    x = self.decoder(x)\n",
        "    return x, qy, kl"
      ],
      "metadata": {
        "id": "B9MFkiQx8F8f"
      },
      "execution_count": null,
      "outputs": []
    },
    {
      "cell_type": "code",
      "source": [
        "def loss_function(recon_x, x, qy):\n",
        "  BCE = F.binary_cross_entropy(recon_x, x, reduction='sum') / x.shape[0]\n",
        "\n",
        "  log_ratio = torch.log(qy * qy.size(-1) + 1e-20)\n",
        "  KLD = torch.sum(qy * log_ratio, dim=-1).mean()\n",
        "\n",
        "  return BCE + KLD"
      ],
      "metadata": {
        "id": "cobManvJQqD7"
      },
      "execution_count": null,
      "outputs": []
    },
    {
      "cell_type": "code",
      "source": [
        "temp = 1.0\n",
        "hard = False\n",
        "temp_min = 0.5\n",
        "ANNEAL_RATE = 0.00003\n",
        "z_dim = 2\n",
        "N = 5\n",
        "K = 65\n",
        "\n",
        "device = 'cuda' if torch.cuda.is_available() else 'cpu'\n",
        "\n",
        "model_combined = VAE_Combined(z_dim, N, K).to(device)\n",
        "\n",
        "def train_model_combined(num_epochs, temp=1.0, hard=False):\n",
        "    optimizer = torch.optim.Adam(model_combined.parameters(), lr=1e-3)\n",
        "    train_loss = 0\n",
        "    for epoch in range(num_epochs):\n",
        "        print(f'epoch num is:{epoch}')\n",
        "        for batch_idx, (x, _) in enumerate(data_loader):\n",
        "            x = x.to(device)\n",
        "            optimizer.zero_grad()\n",
        "            x_hat, qy, kl = model_combined(device, x, temp, hard)\n",
        "            total_loss = loss_function(x_hat, x, qy) + kl\n",
        "            total_loss.backward()\n",
        "            train_loss += total_loss.item()\n",
        "            optimizer.step()\n",
        "            temp = np.maximum(temp * np.exp(-ANNEAL_RATE * batch_idx), temp_min)"
      ],
      "metadata": {
        "id": "0NDlf2bFRDRr"
      },
      "execution_count": null,
      "outputs": []
    },
    {
      "cell_type": "code",
      "source": [
        "train_model_combined(20, temp, hard)"
      ],
      "metadata": {
        "colab": {
          "base_uri": "https://localhost:8080/"
        },
        "id": "Xztju4ZwULof",
        "outputId": "62fafcb0-d00e-42e5-a846-ec98b1eb2236"
      },
      "execution_count": null,
      "outputs": [
        {
          "output_type": "stream",
          "name": "stdout",
          "text": [
            "epoch num is:0\n",
            "epoch num is:1\n",
            "epoch num is:2\n",
            "epoch num is:3\n",
            "epoch num is:4\n",
            "epoch num is:5\n",
            "epoch num is:6\n",
            "epoch num is:7\n",
            "epoch num is:8\n",
            "epoch num is:9\n",
            "epoch num is:10\n",
            "epoch num is:11\n",
            "epoch num is:12\n",
            "epoch num is:13\n",
            "epoch num is:14\n",
            "epoch num is:15\n",
            "epoch num is:16\n",
            "epoch num is:17\n",
            "epoch num is:18\n",
            "epoch num is:19\n"
          ]
        }
      ]
    },
    {
      "cell_type": "code",
      "source": [
        "with open(\"train_hw2_vae_combined_206238891.pkl\", \"wb\") as f:\n",
        "  pickle.dump(model_combined, f)"
      ],
      "metadata": {
        "id": "oRz0UbAjGkw3"
      },
      "execution_count": null,
      "outputs": []
    }
  ]
}